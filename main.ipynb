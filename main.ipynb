{
 "cells": [
  {
   "cell_type": "markdown",
   "id": "3b73cec8",
   "metadata": {},
   "source": [
    "# 1. Cadastrar usuário para obter token de acesso da API\n",
    "# {\"user\": \"contato@gmaxti.com.br\", \"API Token\": \"BGX34YFN3FDY\"}"
   ]
  },
  {
   "cell_type": "markdown",
   "id": "d06e3fdf",
   "metadata": {},
   "source": [
    "# Instalar Bibliotecas"
   ]
  },
  {
   "cell_type": "code",
   "execution_count": null,
   "id": "947e6f98",
   "metadata": {},
   "outputs": [],
   "source": [
    "pip install --upgrade pandas-gbq"
   ]
  },
  {
   "cell_type": "code",
   "execution_count": null,
   "id": "862ece55",
   "metadata": {},
   "outputs": [],
   "source": [
    "pip install --upgrade reverse_geocoder"
   ]
  },
  {
   "cell_type": "code",
   "execution_count": null,
   "id": "cea20006",
   "metadata": {},
   "outputs": [],
   "source": [
    "pip install fernet"
   ]
  },
  {
   "cell_type": "markdown",
   "id": "7aa08ff2",
   "metadata": {},
   "source": [
    "# Importar Bibliotecas"
   ]
  },
  {
   "cell_type": "code",
   "execution_count": 1,
   "id": "ee067e2e",
   "metadata": {},
   "outputs": [],
   "source": [
    "from datetime import datetime\n",
    "\n",
    "import pandas as pd\n",
    "import requests\n",
    "import reverse_geocoder as rg\n",
    "from cryptography.fernet import Fernet\n",
    "from google.cloud import bigquery\n",
    "from google.oauth2 import service_account"
   ]
  },
  {
   "cell_type": "markdown",
   "id": "fbf67016",
   "metadata": {},
   "source": [
    "# 2. Consumir dados de usuário da API"
   ]
  },
  {
   "cell_type": "code",
   "execution_count": 2,
   "id": "377c9cfc",
   "metadata": {},
   "outputs": [],
   "source": [
    "dados = requests.get(\"https://begrowth.deta.dev/token=BGX34YFN3FDY\")\n",
    "dados = dados.json()\n",
    "df = pd.DataFrame(dados)"
   ]
  },
  {
   "cell_type": "markdown",
   "id": "3e95f8c3",
   "metadata": {},
   "source": [
    "# Para o campo utm (Urchin Traffic Monitor) temos os seguintes dominios validos, que sempre terá a estrutura [país]-[source]-[vertical]:"
   ]
  },
  {
   "cell_type": "code",
   "execution_count": 3,
   "id": "b9717a17",
   "metadata": {},
   "outputs": [],
   "source": [
    "utm = df['utm'].str.split('-', expand=True)\n",
    "utm.columns = ['utm_country', 'utm_source', 'utm_vertical']\n",
    "utm.loc[(utm.utm_country == 'br'), 'utm_country'] = 'Brasil'\n",
    "utm.loc[(utm.utm_source == 'gg'), 'utm_source'] = 'Google'\n",
    "utm.loc[(utm.utm_source == 'fb'), 'utm_source'] = 'Facebook'\n",
    "utm.loc[(utm.utm_source == 'wpp'), 'utm_source'] = 'WhatsApp'\n",
    "utm.loc[(utm.utm_vertical == 'emp'), 'utm_vertical'] = 'Empréstimo'\n",
    "utm.loc[(utm.utm_vertical == 'cc'), 'utm_vertical'] = 'Cartão de Crédito'\n",
    "utm.loc[(utm.utm_vertical == 'fin'), 'utm_vertical'] = 'Financiamento'\n",
    "df.insert(7, \"utm_country\", utm['utm_country'], True)\n",
    "df.insert(8, \"utm_source\", utm['utm_source'], True)\n",
    "df.insert(9, \"utm_vertical\", utm['utm_vertical'], True)"
   ]
  },
  {
   "cell_type": "markdown",
   "id": "fbec43fa",
   "metadata": {},
   "source": [
    "# 2.1 - Precisamos saber o estado que a pessoa acessou nossos serviços, com as coordenadas  address.geo_latitude e address.geo_longitude dos usuários devemos criar uma coluna de estado chamada address_state, processo denominado reverse geocode"
   ]
  },
  {
   "cell_type": "code",
   "execution_count": 4,
   "id": "6ccc4bed",
   "metadata": {
    "scrolled": true
   },
   "outputs": [
    {
     "name": "stdout",
     "output_type": "stream",
     "text": [
      "Loading formatted geocoded file...\n"
     ]
    }
   ],
   "source": [
    "list_value = df['address'].tolist()\n",
    "address = pd.DataFrame(list_value)\n",
    "\n",
    "\n",
    "def reverseGeocode(coordinates):\n",
    "    result = rg.search(coordinates, mode=1)\n",
    "    return result\n",
    "    # result é uma lista contendo um dicionário ordenado.\n",
    "\n",
    "\n",
    "if __name__ == \"__main__\":\n",
    "    coordinates = (\n",
    "        list(zip(address['geo_latitude'], address['geo_longitude'])))\n",
    "    states = pd.DataFrame(reverseGeocode(coordinates))\n",
    "\n",
    "states = pd.DataFrame((states['admin1'].tolist()), columns=[\"address_state\"])\n",
    "df.insert(6, \"address_state\", states['address_state'], True)"
   ]
  },
  {
   "cell_type": "markdown",
   "id": "2f0566f9",
   "metadata": {},
   "source": [
    "# 2.2 - a API nos devolve o CPF do usuário, mas temos um problema: o CPF está criptografado! 🔒 Utilizando a chave de criptografia Fernet passada por email, abra esse CPF para que possamos analisar o próximo requisito;"
   ]
  },
  {
   "cell_type": "code",
   "execution_count": 5,
   "id": "02222804",
   "metadata": {},
   "outputs": [],
   "source": [
    "key = Fernet(b'ekkxXo0uHWRkIbHqHrLS4gaMj2hWTYMJyPTAbi9INGI=')\n",
    "cpf = ''\n",
    "for i in df['cpf'].index:\n",
    "    cpf += ((key.decrypt(df['cpf'].__getitem__(i)).decode('utf-8'))+', ')\n",
    "\n",
    "cpf_list = cpf.split(\",\")\n",
    "df['cpf'] = pd.DataFrame(cpf_list, columns=[\"cpf\"])"
   ]
  },
  {
   "cell_type": "markdown",
   "id": "e7f8d494",
   "metadata": {},
   "source": [
    "# 2.3 - Para ajudar a identificar registros mais atualizados e para nosso controle de auditoria, precisamos que o dataframe tenha as colunas dt_insert que contenha data/hora de inclusão do registro e candidate_name que contenha seu nome"
   ]
  },
  {
   "cell_type": "code",
   "execution_count": 6,
   "id": "6dac5163",
   "metadata": {},
   "outputs": [],
   "source": [
    "data_hora = datetime.now()\n",
    "data_hora_string = data_hora.strftime('%d/%m/%Y %H:%M')\n",
    "df['dt_insert'] = data_hora_string\n",
    "df['candidate_name'] = 'Aisllan Max Caldeira'\n",
    "df.to_csv('aisllan_data.csv', index=False)"
   ]
  },
  {
   "cell_type": "markdown",
   "id": "81842688",
   "metadata": {},
   "source": [
    "# 3. Inserir esse dataframe dentro de uma tabela no BigQuery"
   ]
  },
  {
   "cell_type": "code",
   "execution_count": 7,
   "id": "d82a9fae",
   "metadata": {},
   "outputs": [],
   "source": [
    "def load_data_from_file(dataset_id, table_id, source_file_name):\n",
    "    key_path = \"svc-data-engineer-test.json\"\n",
    "    credentials = service_account.Credentials.from_service_account_file(key_path,)\n",
    "    credentials = credentials.with_scopes(\n",
    "        [\n",
    "            'https://www.googleapis.com/auth/drive',\n",
    "            'https://www.googleapis.com/auth/cloud-platform',\n",
    "        ],\n",
    "    )\n",
    "    bigquery_client = bigquery.Client(credentials=credentials, project = credentials.project_id,)\n",
    "    dataset_ref = bigquery_client.dataset(dataset_id)\n",
    "    table_ref = dataset_ref.table(table_id)\n",
    "\n",
    "    job_config = bigquery.LoadJobConfig(source_format=bigquery.SourceFormat.CSV, skip_leading_rows=1, autodetect=True,)\n",
    "    \n",
    "    with open(source_file_name, 'rb') as source_file:\n",
    "        job = bigquery_client.load_table_from_file(source_file, table_ref, job_config=job_config)        \n",
    "\n",
    "    job.result()  # Waits for job to complete\n",
    "\n",
    "    print('Loaded {} rows into {}:{}.'.format(\n",
    "        job.output_rows, credentials.project_id, table_ref))"
   ]
  },
  {
   "cell_type": "code",
   "execution_count": 8,
   "id": "d2b87173",
   "metadata": {},
   "outputs": [
    {
     "name": "stdout",
     "output_type": "stream",
     "text": [
      "Loaded 1020 rows into begrowth-user-api-demo:begrowth-user-api-demo.bg_users.bg_data_enginner_test_aisllan_max_caldeira.\n"
     ]
    }
   ],
   "source": [
    "load_data_from_file('bg_users', 'bg_data_enginner_test_aisllan_max_caldeira', 'aisllan_data.csv')"
   ]
  }
 ],
 "metadata": {
  "kernelspec": {
   "display_name": "Python 3",
   "language": "python",
   "name": "python3"
  },
  "language_info": {
   "codemirror_mode": {
    "name": "ipython",
    "version": 3
   },
   "file_extension": ".py",
   "mimetype": "text/x-python",
   "name": "python",
   "nbconvert_exporter": "python",
   "pygments_lexer": "ipython3",
   "version": "3.11.1"
  },
  "vscode": {
   "interpreter": {
    "hash": "3fee72640a5af8cfbcaf560c11c540b295e603caca09e1c84e8f196dad3d5b86"
   }
  }
 },
 "nbformat": 4,
 "nbformat_minor": 5
}
